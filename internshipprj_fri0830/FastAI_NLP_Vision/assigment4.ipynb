{
  "nbformat": 4,
  "nbformat_minor": 0,
  "metadata": {
    "colab": {
      "name": "assigment4.ipynb",
      "private_outputs": true,
      "provenance": []
    },
    "kernelspec": {
      "name": "python3",
      "display_name": "Python 3"
    },
    "language_info": {
      "name": "python"
    },
    "accelerator": "GPU"
  },
  "cells": [
    {
      "cell_type": "code",
      "metadata": {
        "id": "6QQu8kxeo8dn"
      },
      "source": [
        "!pip install -Uq fastai"
      ],
      "execution_count": null,
      "outputs": []
    },
    {
      "cell_type": "code",
      "metadata": {
        "id": "W3Sl5L9lo_oR"
      },
      "source": [
        "from fastai.vision.all import *\n",
        "from fastai.vision.widgets import *"
      ],
      "execution_count": null,
      "outputs": []
    },
    {
      "cell_type": "code",
      "metadata": {
        "id": "dg6PnVOKpF1Y"
      },
      "source": [
        "path = untar_data(URLs.PETS, dest=\"/content\")\n",
        "annotations_path = path.joinpath(\"./annotations/\")\n",
        "images_path = path.joinpath(\"./images/\")"
      ],
      "execution_count": null,
      "outputs": []
    },
    {
      "cell_type": "code",
      "metadata": {
        "id": "RNg_XgmfpJFQ"
      },
      "source": [
        "import os\n",
        "import glob\n",
        "import ipywidgets as widgets\n",
        "from IPython.display import display\n",
        "\n",
        "images = widgets.Dropdown(options=[os.path.basename(p) for p in images_path.glob(\"./*.jpg\")], description='images:', continuous_update=True)\n",
        "# trimaps = widgets.Dropdown(options=[os.path.basename(p) for p in annotations_path.glob(\"./*.png\")], description='annotations-trimaps:', continuous_update=True)\n",
        "# display(images, trimaps)"
      ],
      "execution_count": null,
      "outputs": []
    },
    {
      "cell_type": "code",
      "metadata": {
        "id": "KvSgdcyjcEcZ"
      },
      "source": [
        "out_pl = widgets.Output()\n",
        "lbl_pred = widgets.Label()\n",
        "lbl_pred.value = f'Waiting for Result...'\n",
        "btn_run = widgets.Button(description='Display')\n",
        "def on_click_classify(change):\n",
        "  selected_image = images_path.joinpath(images.value)\n",
        "  img = PILImage.create(selected_image)\n",
        "  out_pl.clear_output()\n",
        "  with out_pl: display(img.to_thumb(128,128))\n",
        "\n",
        "btn_run.on_click(on_click_classify)"
      ],
      "execution_count": null,
      "outputs": []
    },
    {
      "cell_type": "code",
      "metadata": {
        "id": "PyyqPSUIdP9C"
      },
      "source": [
        "\n",
        "VBox([widgets.Label('Do you want to know you pet? Select a Photo...'), images, \n",
        "      btn_run, out_pl, lbl_pred])"
      ],
      "execution_count": null,
      "outputs": []
    },
    {
      "cell_type": "code",
      "metadata": {
        "id": "zcOtMNABHGiL"
      },
      "source": [
        "import pandas as pd\n",
        "\n",
        "df = pd.read_csv(annotations_path/'trainval.txt', header=6, sep=' ', names=['image', 'class_id', 'species', 'bread_id'])\n",
        "df.shape"
      ],
      "execution_count": null,
      "outputs": []
    },
    {
      "cell_type": "code",
      "metadata": {
        "id": "OnB31oIJN1uu"
      },
      "source": [
        "# dls = ImageDataLoaders.from_df(df, path=images_path, item_tfms=Resize(500), batch_tfms=aug_transforms(size=250))\n",
        "\n",
        "def get_x(x): return images_path/(x['image'] + \".jpg\")\n",
        "def get_y(x): return x['class_id']\n",
        "\n",
        "dblock = DataBlock(blocks=(ImageBlock, CategoryBlock),\n",
        "                   splitter=RandomSplitter(seed=42),\n",
        "                   get_x=get_x,\n",
        "                   get_y=get_y, \n",
        "                   item_tfms = Resize(500),\n",
        "                   batch_tfms=aug_transforms(size=250)) "
      ],
      "execution_count": null,
      "outputs": []
    },
    {
      "cell_type": "code",
      "metadata": {
        "id": "BPkn5J8zPZWo"
      },
      "source": [
        "dls = dblock.dataloaders(df)\n",
        "dls.show_batch()"
      ],
      "execution_count": null,
      "outputs": []
    },
    {
      "cell_type": "code",
      "metadata": {
        "id": "I38liSwbQO9S"
      },
      "source": [
        "learn = cnn_learner(dls, resnet34, metrics=accuracy)"
      ],
      "execution_count": null,
      "outputs": []
    },
    {
      "cell_type": "code",
      "metadata": {
        "id": "B_8o1GWZQbIx"
      },
      "source": [
        "learn.fine_tune(epochs=10, freeze_epochs=2)"
      ],
      "execution_count": null,
      "outputs": []
    },
    {
      "cell_type": "code",
      "metadata": {
        "id": "WR9-b0MtH3Ws"
      },
      "source": [
        "!ls oxford-iiit-pet/images/*.jpg | wc -l\n"
      ],
      "execution_count": null,
      "outputs": []
    },
    {
      "cell_type": "code",
      "metadata": {
        "id": "fWz2GQ5gp-24"
      },
      "source": [
        "!cat /content/oxford-iiit-pet/annotations/list.txt | more\n"
      ],
      "execution_count": null,
      "outputs": []
    }
  ]
}