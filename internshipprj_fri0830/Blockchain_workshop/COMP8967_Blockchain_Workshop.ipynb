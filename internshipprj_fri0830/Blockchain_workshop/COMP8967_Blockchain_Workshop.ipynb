{
  "nbformat": 4,
  "nbformat_minor": 0,
  "metadata": {
    "colab": {
      "name": "COMP8967-Blockchain Workshop.ipynb",
      "provenance": [],
      "collapsed_sections": []
    },
    "kernelspec": {
      "name": "python3",
      "display_name": "Python 3"
    },
    "language_info": {
      "name": "python"
    }
  },
  "cells": [
    {
      "cell_type": "markdown",
      "metadata": {
        "id": "VbMVu7XUPCMe"
      },
      "source": [
        "# **Learn Blockchain Technology by Developing a mini Cryptocurrency Application**\n",
        "This tutorial provides a start point for students to learn about the theory behind Blockchain technology with practical training using Python."
      ]
    },
    {
      "cell_type": "markdown",
      "metadata": {
        "id": "TDANmMJzYpAA"
      },
      "source": [
        "# Prerequisites\n",
        "\n",
        "*   Basic knowledge of Python\n",
        "*   Knowledge of REST-APIs\n",
        "\n",
        "*   Familiarity with Flask and Postman"
      ]
    },
    {
      "cell_type": "markdown",
      "metadata": {
        "id": "xdO7WUqhY2jf"
      },
      "source": [
        "# Objectives\n",
        "\n",
        "\n",
        "*   Learn about Blockchain and its Background\n",
        "*   Key Blockchain Features\n",
        "\n",
        "    1.   Hash Cryptography\n",
        "    2.   Immutable Ledger\n",
        "    3.   Mining\n",
        "    4.   Distributed P2P Network\n",
        "    5.   Consensus Protocol\n",
        "\n",
        "\n",
        "\n",
        "\n",
        "\n",
        "\n",
        "\n",
        "\n",
        "\n",
        "\n",
        "\n",
        "\n",
        "\n",
        "\n"
      ]
    },
    {
      "cell_type": "markdown",
      "metadata": {
        "id": "ofymM9sgHUAo"
      },
      "source": [
        "# A mini cryptocurrency application"
      ]
    },
    {
      "cell_type": "markdown",
      "metadata": {
        "id": "nNCSr30dWBw3"
      },
      "source": [
        "# 1. Building a Blockchain\n",
        "\n",
        "**What is a Blockchain?** A blockchain is a growing list of records, called Blocks, that are linked using cryptography (Wikipedia). \n",
        "\n",
        "A blockchain can be considered as a special database because of **its way of storing data**. \n",
        "\n",
        "The data (in a block) can be anything.\n",
        "\n",
        "**Key Features:**\n",
        "\n",
        "*   Immutable Ledger: Blocks cannot be modified once added.\n",
        "*   There are rules for adding a block to the chain (Hash, Mining, Consensus).\n",
        "*   No single point of failure. It supports Distributed P2P Network.\n",
        "\n",
        "**Block** is a record with data inside it. The block can contain one or many of such data (called transaction in cryptocurrency)."
      ]
    },
    {
      "cell_type": "code",
      "metadata": {
        "id": "Izp5omkBrFka"
      },
      "source": [
        "import datetime\n",
        "\n",
        "class Blockchain:\n",
        "    def __init__(self):\n",
        "      '''\n",
        "      Initialize the Blockchain class.\n",
        "      chain: a list containing the blocks\n",
        "      createblock(): to create genesis block with previous_hash = '0'\n",
        "      '''\n",
        "      self.chain = []\n",
        "      self.create_block(previous_hash = '0')\n",
        "\n",
        "    def create_block(self, previous_hash):\n",
        "      '''\n",
        "      A function to create a block\n",
        "      It takes previous_hash as input and return the created block\n",
        "      '''\n",
        "      block = {\n",
        "          'index': len(self.chain) + 1,\n",
        "          'timestamp': str(datetime.datetime.now()),\n",
        "          'previous_hash': previous_hash\n",
        "      }\n",
        "\n",
        "      #append block to the chain\n",
        "      self.chain.append(block)\n",
        "      return block"
      ],
      "execution_count": null,
      "outputs": []
    },
    {
      "cell_type": "markdown",
      "metadata": {
        "id": "KOIwYe5glShh"
      },
      "source": [
        "For accessing the previous_hash filed we need to have an access to the last block of the chain, so let's define a function for that:"
      ]
    },
    {
      "cell_type": "code",
      "metadata": {
        "id": "sCgIK86ylp3D"
      },
      "source": [
        "import datetime\n",
        "\n",
        "class Blockchain:\n",
        "    def __init__(self):\n",
        "      '''\n",
        "      Initialize the Blockchain class.\n",
        "      chain: a list containing the blocks\n",
        "      createblock(): to create genesis block with previous_hash = '0'.\n",
        "      '''\n",
        "      self.chain = []\n",
        "      self.create_block(previous_hash = '0')\n",
        "\n",
        "    def create_block(self, previous_hash):\n",
        "      '''\n",
        "      A function to create a block.\n",
        "      It takes previous_hash as input and return the created block.\n",
        "      '''\n",
        "      block = {\n",
        "          'index': len(self.chain) + 1,\n",
        "          'timestamp': str(datetime.datetime.now()),\n",
        "          'previous_hash': previous_hash\n",
        "      }\n",
        "\n",
        "      #append block to the chain\n",
        "      self.chain.append(block)\n",
        "      return block\n",
        "\n",
        "    def get_previous_block(self):\n",
        "      '''\n",
        "      A function to return the most recent block in the chain.\n",
        "      '''\n",
        "      return self.chain[-1]"
      ],
      "execution_count": null,
      "outputs": []
    },
    {
      "cell_type": "markdown",
      "metadata": {
        "id": "PoSfAELaL-FW"
      },
      "source": [
        "# Using Hash algorithm for digital fingerprints\n",
        "A key feature of blockchain, which provides security, is that blocks cannot be modified once added. Cryptographic hash functions are used to detect if any kind of tampering happened or not.\n",
        "\n",
        "**What is a Hash Function?** a function that takes an arbitrary length input and produces a fixed length “fingerprint” string."
      ]
    },
    {
      "cell_type": "markdown",
      "metadata": {
        "id": "xe74KmcbmRf2"
      },
      "source": [
        "How to use [SHA-256](https://en.wikipedia.org/wiki/SHA-2) hashing function in Python:"
      ]
    },
    {
      "cell_type": "code",
      "metadata": {
        "colab": {
          "base_uri": "https://localhost:8080/",
          "height": 35
        },
        "id": "ZKcNw7_lml4W",
        "outputId": "18fee903-c028-4604-a127-c7d58189d9ef"
      },
      "source": [
        "from hashlib import sha256\n",
        "data = b'Hello, Welcome to Blockchain Workshop'\n",
        "sha256(data).hexdigest()"
      ],
      "execution_count": null,
      "outputs": [
        {
          "output_type": "execute_result",
          "data": {
            "application/vnd.google.colaboratory.intrinsic+json": {
              "type": "string"
            },
            "text/plain": [
              "'6d69afb92b3e65b90310d26226480537237374fd1a5f2469a36fbbeee838df4b'"
            ]
          },
          "metadata": {
            "tags": []
          },
          "execution_count": 1
        }
      ]
    },
    {
      "cell_type": "markdown",
      "metadata": {
        "id": "iIDwb-pTz8be"
      },
      "source": [
        "**Deterministic**: No matter how many times you run the hash function, **the result is always the same**."
      ]
    },
    {
      "cell_type": "code",
      "metadata": {
        "colab": {
          "base_uri": "https://localhost:8080/",
          "height": 35
        },
        "id": "HRxy2JZOm6HO",
        "outputId": "1f0b2286-337c-49fd-8c77-fbc2aa46d62a"
      },
      "source": [
        "sha256(data).hexdigest()"
      ],
      "execution_count": null,
      "outputs": [
        {
          "output_type": "execute_result",
          "data": {
            "application/vnd.google.colaboratory.intrinsic+json": {
              "type": "string"
            },
            "text/plain": [
              "'6d69afb92b3e65b90310d26226480537237374fd1a5f2469a36fbbeee838df4b'"
            ]
          },
          "metadata": {
            "tags": []
          },
          "execution_count": 2
        }
      ]
    },
    {
      "cell_type": "markdown",
      "metadata": {
        "id": "ZthcAnRg0GTA"
      },
      "source": [
        "By adding even a character, the hash will change entirely (**Avalanche Effect**). "
      ]
    },
    {
      "cell_type": "code",
      "metadata": {
        "colab": {
          "base_uri": "https://localhost:8080/",
          "height": 35
        },
        "id": "q4ZU3KrznB4U",
        "outputId": "6283a34e-4019-4b03-d5ae-9311fd6c6d81"
      },
      "source": [
        "data = b'Hello, Welcome to Blockchain Workshop1'\n",
        "sha256(data).hexdigest()"
      ],
      "execution_count": null,
      "outputs": [
        {
          "output_type": "execute_result",
          "data": {
            "application/vnd.google.colaboratory.intrinsic+json": {
              "type": "string"
            },
            "text/plain": [
              "'d774276ce1f495f50d4e56f9398bf4c951f5deb3e44a1e860aa6a56ae98ee721'"
            ]
          },
          "metadata": {
            "tags": []
          },
          "execution_count": 4
        }
      ]
    },
    {
      "cell_type": "markdown",
      "metadata": {
        "id": "W4tTSmYNoYdC"
      },
      "source": [
        "The **hash** of the block should be added into it as a fingerprint. If any changes happen to the content of any of blocks:\n",
        "\n",
        "*   The hash of the block would change.\n",
        "*   This results in a mismatch with the **previous_hash field** in the next blocks.\n"
      ]
    },
    {
      "cell_type": "markdown",
      "metadata": {
        "id": "eVDAni7nNzWO"
      },
      "source": [
        "#Proof of Work algorithm\n",
        "It may seem we can re-compute the hashes of all the following blocks quite easily and create a different valid blockchain. But the idea is that instead of accepting any hash for the block, we add some constraint to it.\n",
        "\n",
        "**What constraint?** Any hash with \"n leading zeroes\" where n can be any positive integer.\n",
        "\n",
        "**Nonce** is a number that we'll keep on changing until we get a hash that satisfies the constraint. The nonce satisfying the constraint is called **Golden Nonce** and serves as proof of work.\n",
        "\n",
        "The number of zeroes specified in the constraint decides the **difficulty** of the Proof of Work algorithm."
      ]
    },
    {
      "cell_type": "code",
      "metadata": {
        "id": "x9mGBP5odrFG"
      },
      "source": [
        "import datetime\n",
        "from hashlib import sha256 #import sha256 from hashlib library\n",
        "\n",
        "class Blockchain:\n",
        "    def __init__(self):\n",
        "      '''\n",
        "      Initialize the Blockchain class.\n",
        "      chain: a list containing the blocks\n",
        "      createblock(): to create genesis block with previous_hash = '0'.\n",
        "      '''\n",
        "      self.chain = []\n",
        "      self.create_block(proof = 1, previous_hash = '0') #add proof\n",
        "\n",
        "    def create_block(self, proof, previous_hash): #add proof\n",
        "      '''\n",
        "      A function to create a block.\n",
        "      It takes previous_hash as input and return the created block.\n",
        "      '''\n",
        "      block = {\n",
        "          'index': len(self.chain) + 1,\n",
        "          'timestamp': str(datetime.datetime.now()),\n",
        "          'proof': proof,\n",
        "          'previous_hash': previous_hash\n",
        "      }\n",
        "\n",
        "      #append block to the chain\n",
        "      self.chain.append(block)\n",
        "      return block\n",
        "\n",
        "    def get_previous_block(self):\n",
        "      '''\n",
        "      A function to return the most recent block in the chain.\n",
        "      '''\n",
        "      return self.chain[-1]\n",
        "\n",
        "    def proof_of_work(self, previous_proof):\n",
        "      '''\n",
        "      A function to find the golden nonce.\n",
        "      It takes the previous_hash as an input.\n",
        "      The hash operation should be symmetric.\n",
        "      the return value is golden nonce which is proof of work and will be the inpute of create_block() function.\n",
        "      '''\n",
        "      new_proof = 1 #initial value for nonce field\n",
        "      check_proof = False\n",
        "      while check_proof is False:\n",
        "        hash_operation = sha256(str(new_proof**2 - previous_proof**2).encode()).hexdigest()\n",
        "        if hash_operation[:4] == '0000':\n",
        "          check_proof = True\n",
        "        else:\n",
        "          new_proof +=1\n",
        "      return new_proof"
      ],
      "execution_count": null,
      "outputs": []
    },
    {
      "cell_type": "markdown",
      "metadata": {
        "id": "XjnyKPJUepFn"
      },
      "source": [
        "# Hash Function\n",
        "\n",
        "To add a block to the chain, we'll first have to verify\n",
        "\n",
        "*   The data is untampered i.e., the Proof of Work (PoW) provided is correct (easy to do)\n",
        "*   The chain is valid.\n",
        "\n",
        "Before doing the verification, we need to define hash() function to compute hash of the created block:"
      ]
    },
    {
      "cell_type": "code",
      "metadata": {
        "id": "b_NqvX77FRde"
      },
      "source": [
        "import datetime\n",
        "import json\n",
        "from hashlib import sha256 #import sha256 from hashlib library\n",
        "\n",
        "class Blockchain:\n",
        "    '''\n",
        "    previous code\n",
        "    '''\n",
        "    def hash(self, block):\n",
        "      '''\n",
        "      A function to compute the hash of the created block (with proof) to verify data is untampered.\n",
        "      input: block\n",
        "      output: hash value of the block\n",
        "      block is a dictionary and need to be encoded before applying sha256 on it. \n",
        "      '''\n",
        "      encoded_block = json.dumps(block, sort_keys = True).encode()\n",
        "      return sha256(encoded_block).hexdigest()\n"
      ],
      "execution_count": null,
      "outputs": []
    },
    {
      "cell_type": "markdown",
      "metadata": {
        "id": "UGETNBujIEfa"
      },
      "source": [
        "**Example of data encoding**"
      ]
    },
    {
      "cell_type": "code",
      "metadata": {
        "id": "lE79-yhxH9Dl"
      },
      "source": [
        "#dictionary data\n",
        "block = {\n",
        "          'index': 1,\n",
        "          'timestamp': '30-07-2021',\n",
        "          'proof': 22,\n",
        "          'previous_hash': 11111\n",
        "      }"
      ],
      "execution_count": null,
      "outputs": []
    },
    {
      "cell_type": "code",
      "metadata": {
        "colab": {
          "base_uri": "https://localhost:8080/"
        },
        "id": "GPsj3Fz5IZz-",
        "outputId": "e776c350-1e63-4d4e-cc22-201dcdd7774c"
      },
      "source": [
        "type(block)"
      ],
      "execution_count": null,
      "outputs": [
        {
          "output_type": "execute_result",
          "data": {
            "text/plain": [
              "dict"
            ]
          },
          "metadata": {
            "tags": []
          },
          "execution_count": 4
        }
      ]
    },
    {
      "cell_type": "code",
      "metadata": {
        "colab": {
          "base_uri": "https://localhost:8080/",
          "height": 35
        },
        "id": "cLS_9iW0Ihix",
        "outputId": "21bbec52-a722-4553-9dc2-5719584c3f2a"
      },
      "source": [
        "import json\n",
        "\n",
        "# json.dumps() function converts a Python object into a json string.\n",
        "json.dumps(block, sort_keys = True)"
      ],
      "execution_count": null,
      "outputs": [
        {
          "output_type": "execute_result",
          "data": {
            "application/vnd.google.colaboratory.intrinsic+json": {
              "type": "string"
            },
            "text/plain": [
              "'{\"index\": 1, \"previous_hash\": 11111, \"proof\": 22, \"timestamp\": \"30-07-2021\"}'"
            ]
          },
          "metadata": {
            "tags": []
          },
          "execution_count": 8
        }
      ]
    },
    {
      "cell_type": "code",
      "metadata": {
        "colab": {
          "base_uri": "https://localhost:8080/"
        },
        "id": "vE8TdCqGJBlk",
        "outputId": "08560cc6-077f-46a4-f6b9-41c742c43444"
      },
      "source": [
        "#encode(): convert json string to byte string which is a acceptable input for sha256\n",
        "json.dumps(block, sort_keys = True).encode()"
      ],
      "execution_count": null,
      "outputs": [
        {
          "output_type": "execute_result",
          "data": {
            "text/plain": [
              "b'{\"index\": 1, \"previous_hash\": 11111, \"proof\": 22, \"timestamp\": \"30-07-2021\"}'"
            ]
          },
          "metadata": {
            "tags": []
          },
          "execution_count": 9
        }
      ]
    },
    {
      "cell_type": "code",
      "metadata": {
        "colab": {
          "base_uri": "https://localhost:8080/",
          "height": 35
        },
        "id": "FFa07zKvIUVQ",
        "outputId": "c2ea0590-3a82-49bd-d86f-b2af4b95e8b6"
      },
      "source": [
        "from hashlib import sha256\n",
        "sha256(json.dumps(block, sort_keys = True).encode()).hexdigest()"
      ],
      "execution_count": null,
      "outputs": [
        {
          "output_type": "execute_result",
          "data": {
            "application/vnd.google.colaboratory.intrinsic+json": {
              "type": "string"
            },
            "text/plain": [
              "'e9666e947f6aa1c0786cac0f3a64d90a0429ce0c0789f5696b13250eed97028c'"
            ]
          },
          "metadata": {
            "tags": []
          },
          "execution_count": 13
        }
      ]
    },
    {
      "cell_type": "markdown",
      "metadata": {
        "id": "-IRiVNFtLCKO"
      },
      "source": [
        "# Chain Verification"
      ]
    },
    {
      "cell_type": "code",
      "metadata": {
        "id": "pTejhIubLBS9"
      },
      "source": [
        "import datetime\n",
        "from hashlib import sha256 #import sha256 from hashlib library\n",
        "\n",
        "class Blockchain:\n",
        "    '''\n",
        "    previous code\n",
        "    '''\n",
        "    def hash(self, block):\n",
        "      '''\n",
        "      A function to compute the hash of the created block (with proof) to verify data is untampered.\n",
        "      input: block\n",
        "      output: hash value of the block\n",
        "      block is a dictionary and need to be encoded before applying sha256 on it. \n",
        "      '''\n",
        "      encoded_block = json.dumps(block, sort_keys = True).encode()\n",
        "      return sha256(encoded_block).hexdigest()\n",
        "    \n",
        "    def is_chain_valid(self, chain):\n",
        "      '''\n",
        "      A function to verify if the chain is valid or not.\n",
        "      Start from the genesis block to the most recent block.\n",
        "      Input: chain\n",
        "      retun True if the chain is valid\n",
        "      '''\n",
        "      previous_block = chain[0]\n",
        "      block_index = 1\n",
        "      while block_index < len(chain):\n",
        "        block = chain[block_index]\n",
        "\n",
        "        #first check\n",
        "        if block['previous_hash'] != self.hash(previous_block):\n",
        "          return False\n",
        "        \n",
        "        #second check\n",
        "        previous_proof = previous_block['proof']\n",
        "        proof = block['proof']\n",
        "        hash_operation = sha256(str(proof**2 - previous_proof**2).encode()).hexdigest()\n",
        "        if hash_operation[:4] != '0000':\n",
        "          return False\n",
        "        previous_block = block\n",
        "        block_index +=1\n",
        "      return True\n"
      ],
      "execution_count": null,
      "outputs": []
    },
    {
      "cell_type": "markdown",
      "metadata": {
        "id": "WkskPNkveZVb"
      },
      "source": [
        "**Complete Code so far:**"
      ]
    },
    {
      "cell_type": "code",
      "metadata": {
        "id": "Qb9Z0XdJeeYq"
      },
      "source": [
        "import datetime\n",
        "import json\n",
        "from hashlib import sha256\n",
        "\n",
        "class Blockchain:\n",
        "    def __init__(self):\n",
        "      '''\n",
        "      Initialize the Blockchain class.\n",
        "      chain: a list containing the blocks\n",
        "      createblock(): to create genesis block with previous_hash = '0'.\n",
        "      '''\n",
        "      self.chain = []\n",
        "      self.create_block(proof = 1, previous_hash = '0') #add proof\n",
        "\n",
        "    def create_block(self, proof, previous_hash): #add proof\n",
        "      '''\n",
        "      A function to create a block.\n",
        "      It takes previous_hash as input and return the created block.\n",
        "      '''\n",
        "      block = {\n",
        "          'index': len(self.chain) + 1,\n",
        "          'timestamp': str(datetime.datetime.now()),\n",
        "          'proof': proof,\n",
        "          'previous_hash': previous_hash\n",
        "      }\n",
        "\n",
        "      #append block to the chain\n",
        "      self.chain.append(block)\n",
        "      return block\n",
        "\n",
        "    def get_previous_block(self):\n",
        "      '''\n",
        "      A function to return the most recent block in the chain.\n",
        "      '''\n",
        "      return self.chain[-1]\n",
        "\n",
        "    def proof_of_work(self, previous_proof):\n",
        "      '''\n",
        "      A function to find the golden nonce.\n",
        "      It takes the previous_hash as an input.\n",
        "      The hash operation should be symmetric.\n",
        "      the return value is golden nonce which is proof of work and will be the inpute of create_block() function.\n",
        "      '''\n",
        "      new_proof = 1 #initial value for nonce field\n",
        "      check_proof = False\n",
        "      while check_proof is False:\n",
        "        hash_operation = sha256(str(new_proof**2 - previous_proof**2).encode()).hexdigest()\n",
        "        if hash_operation[:4] == '0000':\n",
        "          check_proof = True\n",
        "        else:\n",
        "          new_proof +=1\n",
        "      return new_proof\n",
        "\n",
        "    def hash(self, block):\n",
        "      '''\n",
        "      A function to compute the hash of the created block (with proof) to verify data is untampered.\n",
        "      input: block\n",
        "      output: hash value of the block\n",
        "      block is a dictionary and need to be encoded before applying sha256 on it. \n",
        "      '''\n",
        "      encoded_block = json.dumps(block, sort_keys = True).encode()\n",
        "      return sha256(encoded_block).hexdigest()\n",
        "    \n",
        "    def is_chain_valid(self, chain):\n",
        "      '''\n",
        "      A function to verify if the chain is valid or not.\n",
        "      Start from the genesis block to the most recent block.\n",
        "      Input: chain\n",
        "      retun True if the chain is valid\n",
        "      '''\n",
        "      previous_block = chain[0]\n",
        "      block_index = 1\n",
        "      while block_index < len(chain):\n",
        "        block = chain[block_index]\n",
        "\n",
        "        #first check\n",
        "        if block['previous_hash'] != self.hash(previous_block):\n",
        "          return False\n",
        "        \n",
        "        #second check\n",
        "        previous_proof = previous_block['proof']\n",
        "        proof = block['proof']\n",
        "        hash_operation = sha256(str(proof**2 - previous_proof**2).encode()).hexdigest()\n",
        "        if hash_operation[:4] != '0000':\n",
        "          return False\n",
        "        previous_block = block\n",
        "        block_index +=1\n",
        "      return True"
      ],
      "execution_count": null,
      "outputs": []
    },
    {
      "cell_type": "markdown",
      "metadata": {
        "id": "90ffmWQOHWhW"
      },
      "source": [
        "# 2. Create interfaces\n",
        "\n",
        "To interact with the application and work with the blockchain nodes, we will be using Python framework called Flask to create a REST-API.\n",
        "\n",
        "[link to flask Quickstart](https://flask.palletsprojects.com/en/2.0.x/quickstart/)\n",
        "\n",
        "**Initialize Flask application**"
      ]
    },
    {
      "cell_type": "code",
      "metadata": {
        "id": "-L6A0DRVIfNb"
      },
      "source": [
        "# Initialize flask application\n",
        "app =  Flask(__name__)\n",
        " \n",
        "# Initialize a blockchain object.\n",
        "blockchain = Blockchain()"
      ],
      "execution_count": null,
      "outputs": []
    },
    {
      "cell_type": "markdown",
      "metadata": {
        "id": "0yLpBCcpInxX"
      },
      "source": [
        "**Endpoint to mine a block:**"
      ]
    },
    {
      "cell_type": "code",
      "metadata": {
        "id": "A9RMpmVjIm78"
      },
      "source": [
        "#declaring end-point\n",
        "#@app.route(/): decorator to make a request\n",
        "#full URL: http://127.0.0.1:5000/mine_block\n",
        "\n",
        "from flask import jsonify #We need jsonify to creates a response with the JSON representation\n",
        "\n",
        "@app.route('/mine_block', methods=['GET'])\n",
        "def mine_block():\n",
        "  '''\n",
        "  To mine a block first we need to do proof of work.\n",
        "  And to have the most recent block\n",
        "  '''\n",
        "  previous_block = blockchain.get_previous_block()\n",
        "  previous_proof = previous_block['proof']\n",
        "  proof = blockchain.proof_of_work(previous_proof)\n",
        "  previous_hash = blockchain.hash(previous_block)\n",
        "  block = blockchain.create_block(proof, previous_hash)\n",
        "\n",
        "  #send response to GET message to Postman\n",
        "  #response is in json format\n",
        "  response = {\n",
        "      'message': 'Congrtulsations, you just mined a block!',\n",
        "      'index': block['index'],\n",
        "      'timestamp': block['timestamp'],\n",
        "      'proof': block['proof'],\n",
        "      'previous_hash': block['previous_hash']\n",
        "  }\n",
        "  return jsonify(response), 200"
      ],
      "execution_count": null,
      "outputs": []
    },
    {
      "cell_type": "markdown",
      "metadata": {
        "id": "ByCAkVL3JolV"
      },
      "source": [
        "**Endpoint to return the full chain:**"
      ]
    },
    {
      "cell_type": "code",
      "metadata": {
        "id": "qUCgDpoRJyj8"
      },
      "source": [
        "@app.route('/get_chain', methods=['GET'])\n",
        "def get_chain():\n",
        "  response = {\n",
        "      'chain': blockchain.chain,\n",
        "      'length': len(blockchain.chain)\n",
        "  }\n",
        "  return jsonify(response), 200"
      ],
      "execution_count": null,
      "outputs": []
    },
    {
      "cell_type": "markdown",
      "metadata": {
        "id": "BmzNocwkJ3zf"
      },
      "source": [
        "**Run the App:**"
      ]
    },
    {
      "cell_type": "code",
      "metadata": {
        "id": "SC-_SXY_rx2o"
      },
      "source": [
        "app.run(host = '0.0.0.0', port = '5000')"
      ],
      "execution_count": null,
      "outputs": []
    },
    {
      "cell_type": "markdown",
      "metadata": {
        "id": "ghs3jm8lxD_Q"
      },
      "source": [
        "# Congratulations! You can now Run the App and send requests to it.\n",
        "\n",
        "1. Run the [Code](https://) in Spyder (will be Running on http://0.0.0.0:5000/))\n",
        "2. Go to Postman and send following request to the app as many times as you want:\n",
        "\n",
        "Get the Chain\n",
        "http://0.0.0.0:5000/get_chain\n",
        "\n",
        "![](https://drive.google.com/uc?export=view&id=1lRwximgvpIR-1e36paigBOvA_qY4zdFj)\n",
        "\n",
        "Mine a Block\n",
        "http://0.0.0.0:5000/mine_block\n",
        "\n",
        "![](https://drive.google.com/uc?export=view&id=1JtXp3WqsArPlfPpt7JDFS5lZ0eNwpZid)\n",
        "\n",
        "Get the Chain\n",
        "http://0.0.0.0:5000/get_chain\n",
        "\n",
        "![](https://drive.google.com/uc?export=view&id=1chu_kvd8AAg-BPOaqebVdu_4kEy7Jec8)\n",
        "\n"
      ]
    },
    {
      "cell_type": "markdown",
      "metadata": {
        "id": "8zKt_c7jKJ9w"
      },
      "source": [
        "# 3. Establish consensus and decentralization\n",
        "\n",
        "In order to improve the trustworthiness and mitigate single point of failure, the technology use distribute peer to peer network. Therefore, multiple nodes are needed for maintaining the blockchain."
      ]
    },
    {
      "cell_type": "markdown",
      "metadata": {
        "id": "765Y829mTOws"
      },
      "source": [
        "To maintain the integrity of the entire system, nodes need to agree upon some version of the chain which is called achieving \"consensus.\"\n",
        "\n",
        "A simple consensus algorithm could be to agree upon the longest valid chain when the chains of different participating nodes in the network appear to diverge. The rationale behind this approach is that the longest chain is a good estimate of the most amount of work done (remember proof of work is difficult to compute).\n",
        "\n",
        "In this part, we will use the base code of blockchain and create a cryptocurrency app. For that, we will need to add transactions to our blocks.\n",
        "\n",
        "1. Add transaction list to the __init__ function and define **add_transaction** function\n",
        "2. Add nodes set to the __init__ function and define **add_node** function\n",
        "3. Handle consensus problem by defing **replace_chain** function\n",
        "4. Create an address for the node\n",
        "5. Some changes in the **mine_block** function\n",
        "6. Add new endpoints: **is_valid**, **connect_nodes**, **add_transaction**"
      ]
    },
    {
      "cell_type": "code",
      "metadata": {
        "id": "E2OLBa5Q4V2S"
      },
      "source": [
        "#You need to install requests using \"pip install requests\" in terminal\n",
        "\n",
        "import datetime\n",
        "import json\n",
        "from hashlib import sha256\n",
        "from flask import Flask, jsonify, request #to connect nodes\n",
        "import requests #for the consensus purpose, sending http requests between nodes\n",
        "from uuid import uuid4 #to generate random Universal Unique Identifier\n",
        "from urllib.parse import urlparse\n",
        "\n",
        "\n",
        "class Blockchain:\n",
        "    def __init__(self):\n",
        "      '''\n",
        "      Initialize the Blockchain class.\n",
        "      chain: a list containing the blocks\n",
        "      createblock(): to create genesis block with previous_hash = '0'.\n",
        "      '''\n",
        "      self.chain = []\n",
        "      self.transactions = [] #transactions are maintained in a seperate list before adding to the block\n",
        "      self.create_block(proof = 1, previous_hash = '0')\n",
        "      self.nodes = set() #contains nodes\n",
        "\n",
        "    def create_block(self, proof, previous_hash):\n",
        "      '''\n",
        "      A function to create a block.\n",
        "      It takes previous_hash as input and return the created block.\n",
        "      '''\n",
        "      block = {\n",
        "          'index': len(self.chain) + 1,\n",
        "          'timestamp': str(datetime.datetime.now()),\n",
        "          'proof': proof,\n",
        "          'previous_hash': previous_hash,\n",
        "          'transactions': self.transactions #add transaction to the block\n",
        "      }\n",
        "      \n",
        "      self.transactions = [] #make the transactions list empty\n",
        "      self.chain.append(block)\n",
        "      return block\n",
        "\n",
        "    def get_previous_block(self):\n",
        "      '''\n",
        "      A function to return the most recent block in the chain.\n",
        "      '''\n",
        "      return self.chain[-1]\n",
        "\n",
        "    def proof_of_work(self, previous_proof):\n",
        "      '''\n",
        "      A function to find the golden nonce.\n",
        "      It takes the previous_hash as an input.\n",
        "      The hash operation should be symmetric.\n",
        "      the return value is golden nonce which is proof of work and will be the inpute of create_block() function.\n",
        "      '''\n",
        "      new_proof = 1\n",
        "      check_proof = False\n",
        "      while check_proof is False:\n",
        "        hash_operation = sha256(str(new_proof**2 - previous_proof**2).encode()).hexdigest()\n",
        "        if hash_operation[:4] == '0000':\n",
        "          check_proof = True\n",
        "        else:\n",
        "          new_proof +=1\n",
        "      return new_proof\n",
        "\n",
        "    def hash(self, block):\n",
        "      '''\n",
        "      A function to compute the hash of the created block (with proof) to verify data is untampered.\n",
        "      input: block\n",
        "      output: hash value of the block\n",
        "      block is a dictionary and need to be encoded before applying sha256 on it. \n",
        "      '''\n",
        "      encoded_block = json.dumps(block, sort_keys = True).encode()\n",
        "      return sha256(encoded_block).hexdigest()\n",
        "    \n",
        "    def is_chain_valid(self, chain):\n",
        "      '''\n",
        "      A function to verify if the chain is valid or not.\n",
        "      Start from the genesis block to the most recent block.\n",
        "      Input: chain\n",
        "      retun True if the chain is valid\n",
        "      '''\n",
        "      previous_block = chain[0]\n",
        "      block_index = 1\n",
        "      while block_index < len(chain):\n",
        "        block = chain[block_index]\n",
        "\n",
        "        if block['previous_hash'] != self.hash(previous_block):\n",
        "          return False\n",
        "        \n",
        "        previous_proof = previous_block['proof']\n",
        "        proof = block['proof']\n",
        "        hash_operation = sha256(str(proof**2 - previous_proof**2).encode()).hexdigest()\n",
        "        if hash_operation[:4] != '0000':\n",
        "          return False\n",
        "        previous_block = block\n",
        "        block_index +=1\n",
        "      return True\n",
        "\n",
        "    #New Function\n",
        "    def add_transaction(self, sender, receiver, amount):\n",
        "      '''\n",
        "      A function to format the transaction and to add to the block.\n",
        "      input: sender, receiver, amount of coin\n",
        "      '''\n",
        "      self.transactions.append({\n",
        "          'sender': sender,\n",
        "          'receiver': receiver,\n",
        "          'amount': amount\n",
        "      })\n",
        "      #get the index of the block the transaction should be added to it.\n",
        "      previous_block = self.get_previous_block()\n",
        "      return previous_block['index'] + 1\n",
        "    \n",
        "    #New Function\n",
        "    def add_node(self, address):\n",
        "      '''\n",
        "      A function to add node to the node set.\n",
        "      First parses the node address using urlparse\n",
        "      and then adds the netloc of the address to the nodes set.\n",
        "      '''\n",
        "      parsed_url = urlparse(address)\n",
        "      self.nodes.add(parsed_url.netloc)\n",
        "\n",
        "    #New Function\n",
        "    def replace_chain(self):\n",
        "      '''\n",
        "      A function to keep node's chain sync with the longest chain in the network.\n",
        "      '''\n",
        "      network = self.nodes\n",
        "      longest_chain = None\n",
        "      max_length = len(self.chain) #each node cosiders the length of its chain as the max length at the begining\n",
        "      for node in network:\n",
        "        response = requests.get(f'http://{node}/get_chain')\n",
        "        if response.status_code == 200:\n",
        "          length = response.json()['length']\n",
        "          chain = response.json()['chain']\n",
        "          if length > max_length and self.is_chain_valid(chain):\n",
        "            max_length = length\n",
        "            longest_chain = chain\n",
        "      if longest_chain:\n",
        "        self.chain = longest_chain\n",
        "        return True\n",
        "      else:\n",
        "        return False\n",
        "\n",
        "app =  Flask(__name__)\n",
        "\n",
        "#Create an address for the node using uuid4\n",
        "node_address = str(uuid4()).replace('-', '')\n",
        "\n",
        "\n",
        "blockchain = Blockchain()\n",
        "\n",
        "\n",
        "#some changes in this function\n",
        "@app.route('/mine_block', methods=['GET'])\n",
        "def mine_block():\n",
        "  '''\n",
        "  To mine a block first we need to do proof of work.\n",
        "  And to have the most recent block\n",
        "  '''\n",
        "  previous_block = blockchain.get_previous_block()\n",
        "  previous_proof = previous_block['proof']\n",
        "  proof = blockchain.proof_of_work(previous_proof)\n",
        "  previous_hash = blockchain.hash(previous_block)\n",
        "  blockchain.add_transaction(sender = node_address, receiver = 'Samaneh', amount = 1) #sample transaction\n",
        "  block = blockchain.create_block(proof, previous_hash)\n",
        "  response = {\n",
        "      'message': 'Congrtulsations, you just mined a block!',\n",
        "      'index': block['index'],\n",
        "      'timestamp': block['timestamp'],\n",
        "      'proof': block['proof'],\n",
        "      'previous_hash': block['previous_hash'],\n",
        "      'transactions': block['transactions'] #add transactions\n",
        "  }\n",
        "  return jsonify(response), 200\n",
        "\n",
        "\n",
        "@app.route('/get_chain', methods=['GET'])\n",
        "def get_chain():\n",
        "  response = {\n",
        "      'chain': blockchain.chain,\n",
        "      'length': len(blockchain.chain)\n",
        "  }\n",
        "  return jsonify(response), 200\n",
        "\n",
        "# Check is the blockchain is valid\n",
        "@app.route('/is_valid', methods=['GET'])\n",
        "def is_valid():\n",
        "    is_valid = blockchain.is_chain_valid(blockchain.chain)\n",
        "    if is_valid:\n",
        "        response = {'message': 'All good. The Blockchain is valid.'}\n",
        "    else:\n",
        "        response = {'message': 'Hey, we have a problem. The Blockchain is not valid.'}\n",
        "    return jsonify(response), 200\n",
        "\n",
        "# Add new transaction to the blockchain and annouce to other nodes in the network\n",
        "@app.route('/add_transaction', methods=['POST']) #this is a post request\n",
        "def add_transaction():\n",
        "  json = request.get_json() #get the request for adding transaction from the postman\n",
        "  transaction_keys = ['sender', 'receiver', 'amount']\n",
        "  if not all (key in json for key in transaction_keys):\n",
        "    return 'Some elements of the transaction are missing', 400\n",
        "\n",
        "    index = blockchain.add_transaction(json['sender'], json['receiver'], json['amount'])\n",
        "    response = {'message': f'This transaction will be added to Block {index}'}\n",
        "    return jsonify(response), 201 \n",
        "\n",
        "#Decentralizing the Blockchain\n",
        "\n",
        "#connecting new nodes\n",
        "@app.route('/connect_node', methods=['POST'])\n",
        "def connect_node():\n",
        "  json = request.get_json()\n",
        "  nodes = json.get('nodes')\n",
        "  if nodes is None:\n",
        "    return \"No node\", 400\n",
        "  for node in nodes:\n",
        "    blockchain.add_node(node)\n",
        "  response = {'message': 'All nodes are now connected...',\n",
        "              'all_nodes': list(blockchain.nodes)}\n",
        "  return jsonify(response), 201\n",
        "\n",
        "#Replacing the chain by the longest chain if needed\n",
        "@app.route('/replace_chain', methods = ['GET'])\n",
        "def replace_chain():\n",
        "    is_chain_replaced = blockchain.replace_chain()\n",
        "    if is_chain_replaced:\n",
        "        response = {'message': 'The nodes had different chains so the chain was replaced by the longest one.',\n",
        "                    'new_chain': blockchain.chain}\n",
        "    else:\n",
        "        response = {'message': 'All good. The chain is the largest one.',\n",
        "                    'actual_chain': blockchain.chain}\n",
        "    return jsonify(response), 200\n",
        "\n",
        "app.run(host = '0.0.0.0', port = '5000')\n"
      ],
      "execution_count": null,
      "outputs": []
    },
    {
      "cell_type": "markdown",
      "metadata": {
        "id": "nLYM25oPESy1"
      },
      "source": [
        "**Example for urlparse function**"
      ]
    },
    {
      "cell_type": "code",
      "metadata": {
        "id": "dHy8pR0zYl1R",
        "colab": {
          "base_uri": "https://localhost:8080/"
        },
        "outputId": "8477e331-c34c-41c1-fe35-27a847282631"
      },
      "source": [
        "from urllib.parse import urlparse\n",
        "address = 'http://127.0.0.1:5000/'\n",
        "parsed_url = urlparse(address)\n",
        "parsed_url"
      ],
      "execution_count": null,
      "outputs": [
        {
          "output_type": "execute_result",
          "data": {
            "text/plain": [
              "ParseResult(scheme='http', netloc='127.0.0.1:5000', path='/', params='', query='', fragment='')"
            ]
          },
          "metadata": {
            "tags": []
          },
          "execution_count": 1
        }
      ]
    },
    {
      "cell_type": "markdown",
      "metadata": {
        "id": "E_qZf4t-XwEk"
      },
      "source": [
        "# Congratulations! You can now Run the Cryptocurrency App!\n",
        "\n",
        "Instruction:\n",
        "1. Run Nodes:\n",
        "  * Run Node 1 on Port 5001\n",
        "  * Run Node 2 on Port 5002\n",
        "  * Run Node 3 on Port 5003\n",
        "2. Go to Postman and send following requests:\n",
        " * Get the chain for the all nodes through 'http://127.0.0.1:NODE_PORT_NUMBER/get_chain' with GET method\n",
        " *  Connect the node to other nodes in the network using 'http://127.0.0.1:NODE_PORT_NUMBER/connect_node' with POST method\n",
        "  * Create a transaction using 'http://127.0.0.1:NODE_PORT_NUMBER/add_transaction' with POST method\n",
        "  * Mine a block using 'http://127.0.0.1:NODE_PORT_NUMBER/mine_block' with GET method\n",
        "  * Use 'http://127.0.0.1:NODE_PORT_NUMBER/replace_chain' method before the get_chain method whenever a new block added to the Chain."
      ]
    }
  ]
}